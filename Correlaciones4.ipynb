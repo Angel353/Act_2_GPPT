{
  "nbformat": 4,
  "nbformat_minor": 0,
  "metadata": {
    "colab": {
      "provenance": [],
      "toc_visible": true,
      "authorship_tag": "ABX9TyN+XzjuVQc70H3+tHxUdQzm",
      "include_colab_link": true
    },
    "kernelspec": {
      "name": "python3",
      "display_name": "Python 3"
    },
    "language_info": {
      "name": "python"
    }
  },
  "cells": [
    {
      "cell_type": "markdown",
      "metadata": {
        "id": "view-in-github",
        "colab_type": "text"
      },
      "source": [
        "<a href=\"https://colab.research.google.com/github/Angel353/Act_2_GPPT/blob/main/Correlaciones4.ipynb\" target=\"_parent\"><img src=\"https://colab.research.google.com/assets/colab-badge.svg\" alt=\"Open In Colab\"/></a>"
      ]
    },
    {
      "cell_type": "code",
      "execution_count": null,
      "metadata": {
        "id": "6bDOOtFBYR53"
      },
      "outputs": [],
      "source": [
        "#Importamos librerías requeridas\n",
        "import pandas as pd\n",
        "import numpy as np\n",
        "import matplotlib.pyplot as plt\n",
        "import seaborn as sns"
      ]
    },
    {
      "cell_type": "code",
      "source": [
        "#Cargar archivo csv desde equipo\n",
        "from google.colab import files\n",
        "files.upload()"
      ],
      "metadata": {
        "id": "Rvh6r2xtYXhn"
      },
      "execution_count": null,
      "outputs": []
    },
    {
      "cell_type": "code",
      "source": [
        "#Carga desde un archivo .csv sin indice\n",
        "Credicel = pd.read_excel('PrepCrit3.xlsx')"
      ],
      "metadata": {
        "id": "VsW0PLvcaCgw"
      },
      "execution_count": null,
      "outputs": []
    },
    {
      "cell_type": "code",
      "source": [
        "Credicel.info()"
      ],
      "metadata": {
        "colab": {
          "base_uri": "https://localhost:8080/"
        },
        "id": "i1_1CaxsaX5a",
        "outputId": "8e490ce2-cb06-4794-ed08-65faad16beed"
      },
      "execution_count": null,
      "outputs": [
        {
          "output_type": "stream",
          "name": "stdout",
          "text": [
            "<class 'pandas.core.frame.DataFrame'>\n",
            "RangeIndex: 22735 entries, 0 to 22734\n",
            "Data columns (total 32 columns):\n",
            " #   Column              Non-Null Count  Dtype  \n",
            "---  ------              --------------  -----  \n",
            " 0   tag                 22735 non-null  object \n",
            " 1   marca               22735 non-null  object \n",
            " 2   modelo              22735 non-null  object \n",
            " 3   plazo               22735 non-null  object \n",
            " 4   agente_venta        22735 non-null  object \n",
            " 5   dis_venta           22735 non-null  object \n",
            " 6   empresa             22735 non-null  object \n",
            " 7   fecha_ultimo_pago   22735 non-null  object \n",
            " 8   fecha_pago_proximo  22735 non-null  object \n",
            " 9   status_cuenta       22735 non-null  object \n",
            " 10  riesgo              22735 non-null  object \n",
            " 11  razones_buro        22735 non-null  object \n",
            " 12  semana_actual       22735 non-null  object \n",
            " 13  codigo_postal       22735 non-null  object \n",
            " 14  folio               22735 non-null  int64  \n",
            " 15  folio_solicitud     22735 non-null  int64  \n",
            " 16  descuento           22735 non-null  float64\n",
            " 17  monto_accesorios    22735 non-null  float64\n",
            " 18  status              22735 non-null  int64  \n",
            " 19  fraude              22735 non-null  int64  \n",
            " 20  inversion           22735 non-null  int64  \n",
            " 21  pagos_realizados    22735 non-null  int64  \n",
            " 22  reautorizacion      22735 non-null  int64  \n",
            " 23  puntos              22735 non-null  int64  \n",
            " 24  porc_enganche       22735 non-null  float64\n",
            " 25  porc_tasa           22735 non-null  float64\n",
            " 26  score_buro          22735 non-null  float64\n",
            " 27  precio              22735 non-null  float64\n",
            " 28  costo_total         22735 non-null  float64\n",
            " 29  monto_financiado    22735 non-null  float64\n",
            " 30  semana              22735 non-null  float64\n",
            " 31  enganche            22735 non-null  float64\n",
            "dtypes: float64(10), int64(8), object(14)\n",
            "memory usage: 5.6+ MB\n"
          ]
        }
      ]
    },
    {
      "cell_type": "code",
      "source": [
        "#Corroboramos valores nulos\n",
        "ValoresNulos = Credicel.isnull().sum()\n",
        "ValoresNulos"
      ],
      "metadata": {
        "colab": {
          "base_uri": "https://localhost:8080/"
        },
        "id": "Exm7aaFYadSu",
        "outputId": "266d6b83-67b0-4531-a6c7-d59eba689101"
      },
      "execution_count": null,
      "outputs": [
        {
          "output_type": "execute_result",
          "data": {
            "text/plain": [
              "tag                   0\n",
              "marca                 0\n",
              "modelo                0\n",
              "plazo                 0\n",
              "agente_venta          0\n",
              "dis_venta             0\n",
              "empresa               0\n",
              "fecha_ultimo_pago     0\n",
              "fecha_pago_proximo    0\n",
              "status_cuenta         0\n",
              "riesgo                0\n",
              "razones_buro          0\n",
              "semana_actual         0\n",
              "codigo_postal         0\n",
              "folio                 0\n",
              "folio_solicitud       0\n",
              "descuento             0\n",
              "monto_accesorios      0\n",
              "status                0\n",
              "fraude                0\n",
              "inversion             0\n",
              "pagos_realizados      0\n",
              "reautorizacion        0\n",
              "puntos                0\n",
              "porc_enganche         0\n",
              "porc_tasa             0\n",
              "score_buro            0\n",
              "precio                0\n",
              "costo_total           0\n",
              "monto_financiado      0\n",
              "semana                0\n",
              "enganche              0\n",
              "dtype: int64"
            ]
          },
          "metadata": {},
          "execution_count": 5
        }
      ]
    },
    {
      "cell_type": "code",
      "source": [
        "#Filtro por objeto (Primer Filtro)\n",
        "Credicel52Sem = Credicel[Credicel[\"plazo\"] == \"52S\"]\n",
        "Credicel52Sem"
      ],
      "metadata": {
        "colab": {
          "base_uri": "https://localhost:8080/",
          "height": 964
        },
        "id": "9i0BOy8VakSQ",
        "outputId": "0a5fae13-d7a6-43e9-9f6f-c6911a68be14"
      },
      "execution_count": null,
      "outputs": [
        {
          "output_type": "execute_result",
          "data": {
            "text/plain": [
              "            tag     marca                         modelo plazo  \\\n",
              "44     VNOHNLYD  MOTOROLA       E7I POWER 2+32 GB ROJO B   52S   \n",
              "55     BTSUUV1H        LG                     K52 B AZUL   52S   \n",
              "60     D7PIKQPF       ZTE        LTE BLADE A51 64GB Gris   52S   \n",
              "68     PG4QNXP4  MOTOROLA          LTE XT2128-1 G20 Rosa   52S   \n",
              "151    MO4WVC16  MOTOROLA       E7I POWER 2+32 GB AZUL B   52S   \n",
              "...         ...       ...                            ...   ...   \n",
              "18615  WASTKJFB   Samsung                            A04   52S   \n",
              "18747  P538CSMO       TCL                      6125F 20E   52S   \n",
              "19187  TZJJN5IN       ZTE  BLADE A52 LITE 2+32GB VERDE B   52S   \n",
              "19386  Y6NV9HBT  Motorola                    Moto G51 5G   52S   \n",
              "20127  VONHY9GR   SAMSUNG      GALAXY A03 4+64 GB AZUL B   52S   \n",
              "\n",
              "                         agente_venta dis_venta      empresa  \\\n",
              "44          Ana Line Garcia Hernandez   mic0758     microtec   \n",
              "55          Ana Line Garcia Hernandez   mic0758     microtec   \n",
              "60           Rodolfo Rodriguez Juarez     mic09     microtec   \n",
              "68          Rita Dalia Morales Flores    mic08q     microtec   \n",
              "151       Luis Gustavo Simon Cristino    mic08q     microtec   \n",
              "...                               ...       ...          ...   \n",
              "18615  Jose Francisco Martinez Aviles    mun002  comunicatec   \n",
              "18747    Jose Gregorio Madrid Dolores   acel008    apartacel   \n",
              "19187          Roberto Bautista Perez     mic09     microtec   \n",
              "19386       Gissel VillaseÃ±or Flores    lnt003     linetelc   \n",
              "20127  Evelyn Yazmin Rodriguez Garcia    mic01A     microtec   \n",
              "\n",
              "         fecha_ultimo_pago   fecha_pago_proximo status_cuenta  ...  \\\n",
              "44     2022-05-16 00:00:00  2022-05-24 00:00:00          Mora  ...   \n",
              "55     2023-03-10 00:00:00  2023-03-17 00:00:00        Atraso  ...   \n",
              "60     2023-04-15 00:00:00  2023-04-22 00:00:00     Corriente  ...   \n",
              "68     2023-04-14 00:00:00  2023-04-23 00:00:00     Corriente  ...   \n",
              "151            Desconocido          Desconocido   Desconocido  ...   \n",
              "...                    ...                  ...           ...  ...   \n",
              "18615  2023-04-20 00:00:00  2023-04-27 00:00:00     Corriente  ...   \n",
              "18747  2023-03-06 00:00:00  2023-03-13 00:00:00        Fraude  ...   \n",
              "19187  2023-03-10 00:00:00  2023-03-17 00:00:00        Fraude  ...   \n",
              "19386  2023-03-05 00:00:00  2023-03-12 00:00:00        Fraude  ...   \n",
              "20127  2023-04-12 00:00:00  2023-04-20 00:00:00     Corriente  ...   \n",
              "\n",
              "      reautorizacion puntos porc_enganche porc_tasa  score_buro   precio  \\\n",
              "44                 0      0          0.00       0.0         0.0  2999.00   \n",
              "55                 0      0          0.00       0.0         0.0  3999.00   \n",
              "60                 0      0          0.00       0.0         0.0  2999.00   \n",
              "68                 0      0          0.00       0.0         0.0  4599.00   \n",
              "151                1     12          0.00       0.0         0.0  3508.83   \n",
              "...              ...    ...           ...       ...         ...      ...   \n",
              "18615              0      2          3.93       0.0         0.0  3019.00   \n",
              "18747              0      8          5.28       0.0         0.0  2999.00   \n",
              "19187              0      4          0.38       0.0         0.0  2572.83   \n",
              "19386              0     11          1.38       0.0         0.0  7549.00   \n",
              "20127              0     11          0.50       0.0         0.0  3793.85   \n",
              "\n",
              "       costo_total  monto_financiado  semana  enganche  \n",
              "44          5824.0           2249.00   112.0     750.0  \n",
              "55          7280.0           2799.00   140.0    1200.0  \n",
              "60          5824.0           2249.00   112.0     750.0  \n",
              "68          8944.0           3449.00   172.0    1150.0  \n",
              "151         6864.0           2631.83   132.0     877.0  \n",
              "...            ...               ...     ...       ...  \n",
              "18615       6760.0           2598.00   130.0     421.0  \n",
              "18747       6604.0           2541.00   127.0     458.0  \n",
              "19187       5980.0           2305.83   115.0     267.0  \n",
              "19386       5448.5           3001.80   334.0     859.0  \n",
              "20127       8840.0           3395.85   170.0     398.0  \n",
              "\n",
              "[450 rows x 32 columns]"
            ],
            "text/html": [
              "\n",
              "  <div id=\"df-0eee2914-f01e-41ef-92af-ce6c85acb951\" class=\"colab-df-container\">\n",
              "    <div>\n",
              "<style scoped>\n",
              "    .dataframe tbody tr th:only-of-type {\n",
              "        vertical-align: middle;\n",
              "    }\n",
              "\n",
              "    .dataframe tbody tr th {\n",
              "        vertical-align: top;\n",
              "    }\n",
              "\n",
              "    .dataframe thead th {\n",
              "        text-align: right;\n",
              "    }\n",
              "</style>\n",
              "<table border=\"1\" class=\"dataframe\">\n",
              "  <thead>\n",
              "    <tr style=\"text-align: right;\">\n",
              "      <th></th>\n",
              "      <th>tag</th>\n",
              "      <th>marca</th>\n",
              "      <th>modelo</th>\n",
              "      <th>plazo</th>\n",
              "      <th>agente_venta</th>\n",
              "      <th>dis_venta</th>\n",
              "      <th>empresa</th>\n",
              "      <th>fecha_ultimo_pago</th>\n",
              "      <th>fecha_pago_proximo</th>\n",
              "      <th>status_cuenta</th>\n",
              "      <th>...</th>\n",
              "      <th>reautorizacion</th>\n",
              "      <th>puntos</th>\n",
              "      <th>porc_enganche</th>\n",
              "      <th>porc_tasa</th>\n",
              "      <th>score_buro</th>\n",
              "      <th>precio</th>\n",
              "      <th>costo_total</th>\n",
              "      <th>monto_financiado</th>\n",
              "      <th>semana</th>\n",
              "      <th>enganche</th>\n",
              "    </tr>\n",
              "  </thead>\n",
              "  <tbody>\n",
              "    <tr>\n",
              "      <th>44</th>\n",
              "      <td>VNOHNLYD</td>\n",
              "      <td>MOTOROLA</td>\n",
              "      <td>E7I POWER 2+32 GB ROJO B</td>\n",
              "      <td>52S</td>\n",
              "      <td>Ana Line Garcia Hernandez</td>\n",
              "      <td>mic0758</td>\n",
              "      <td>microtec</td>\n",
              "      <td>2022-05-16 00:00:00</td>\n",
              "      <td>2022-05-24 00:00:00</td>\n",
              "      <td>Mora</td>\n",
              "      <td>...</td>\n",
              "      <td>0</td>\n",
              "      <td>0</td>\n",
              "      <td>0.00</td>\n",
              "      <td>0.0</td>\n",
              "      <td>0.0</td>\n",
              "      <td>2999.00</td>\n",
              "      <td>5824.0</td>\n",
              "      <td>2249.00</td>\n",
              "      <td>112.0</td>\n",
              "      <td>750.0</td>\n",
              "    </tr>\n",
              "    <tr>\n",
              "      <th>55</th>\n",
              "      <td>BTSUUV1H</td>\n",
              "      <td>LG</td>\n",
              "      <td>K52 B AZUL</td>\n",
              "      <td>52S</td>\n",
              "      <td>Ana Line Garcia Hernandez</td>\n",
              "      <td>mic0758</td>\n",
              "      <td>microtec</td>\n",
              "      <td>2023-03-10 00:00:00</td>\n",
              "      <td>2023-03-17 00:00:00</td>\n",
              "      <td>Atraso</td>\n",
              "      <td>...</td>\n",
              "      <td>0</td>\n",
              "      <td>0</td>\n",
              "      <td>0.00</td>\n",
              "      <td>0.0</td>\n",
              "      <td>0.0</td>\n",
              "      <td>3999.00</td>\n",
              "      <td>7280.0</td>\n",
              "      <td>2799.00</td>\n",
              "      <td>140.0</td>\n",
              "      <td>1200.0</td>\n",
              "    </tr>\n",
              "    <tr>\n",
              "      <th>60</th>\n",
              "      <td>D7PIKQPF</td>\n",
              "      <td>ZTE</td>\n",
              "      <td>LTE BLADE A51 64GB Gris</td>\n",
              "      <td>52S</td>\n",
              "      <td>Rodolfo Rodriguez Juarez</td>\n",
              "      <td>mic09</td>\n",
              "      <td>microtec</td>\n",
              "      <td>2023-04-15 00:00:00</td>\n",
              "      <td>2023-04-22 00:00:00</td>\n",
              "      <td>Corriente</td>\n",
              "      <td>...</td>\n",
              "      <td>0</td>\n",
              "      <td>0</td>\n",
              "      <td>0.00</td>\n",
              "      <td>0.0</td>\n",
              "      <td>0.0</td>\n",
              "      <td>2999.00</td>\n",
              "      <td>5824.0</td>\n",
              "      <td>2249.00</td>\n",
              "      <td>112.0</td>\n",
              "      <td>750.0</td>\n",
              "    </tr>\n",
              "    <tr>\n",
              "      <th>68</th>\n",
              "      <td>PG4QNXP4</td>\n",
              "      <td>MOTOROLA</td>\n",
              "      <td>LTE XT2128-1 G20 Rosa</td>\n",
              "      <td>52S</td>\n",
              "      <td>Rita Dalia Morales Flores</td>\n",
              "      <td>mic08q</td>\n",
              "      <td>microtec</td>\n",
              "      <td>2023-04-14 00:00:00</td>\n",
              "      <td>2023-04-23 00:00:00</td>\n",
              "      <td>Corriente</td>\n",
              "      <td>...</td>\n",
              "      <td>0</td>\n",
              "      <td>0</td>\n",
              "      <td>0.00</td>\n",
              "      <td>0.0</td>\n",
              "      <td>0.0</td>\n",
              "      <td>4599.00</td>\n",
              "      <td>8944.0</td>\n",
              "      <td>3449.00</td>\n",
              "      <td>172.0</td>\n",
              "      <td>1150.0</td>\n",
              "    </tr>\n",
              "    <tr>\n",
              "      <th>151</th>\n",
              "      <td>MO4WVC16</td>\n",
              "      <td>MOTOROLA</td>\n",
              "      <td>E7I POWER 2+32 GB AZUL B</td>\n",
              "      <td>52S</td>\n",
              "      <td>Luis Gustavo Simon Cristino</td>\n",
              "      <td>mic08q</td>\n",
              "      <td>microtec</td>\n",
              "      <td>Desconocido</td>\n",
              "      <td>Desconocido</td>\n",
              "      <td>Desconocido</td>\n",
              "      <td>...</td>\n",
              "      <td>1</td>\n",
              "      <td>12</td>\n",
              "      <td>0.00</td>\n",
              "      <td>0.0</td>\n",
              "      <td>0.0</td>\n",
              "      <td>3508.83</td>\n",
              "      <td>6864.0</td>\n",
              "      <td>2631.83</td>\n",
              "      <td>132.0</td>\n",
              "      <td>877.0</td>\n",
              "    </tr>\n",
              "    <tr>\n",
              "      <th>...</th>\n",
              "      <td>...</td>\n",
              "      <td>...</td>\n",
              "      <td>...</td>\n",
              "      <td>...</td>\n",
              "      <td>...</td>\n",
              "      <td>...</td>\n",
              "      <td>...</td>\n",
              "      <td>...</td>\n",
              "      <td>...</td>\n",
              "      <td>...</td>\n",
              "      <td>...</td>\n",
              "      <td>...</td>\n",
              "      <td>...</td>\n",
              "      <td>...</td>\n",
              "      <td>...</td>\n",
              "      <td>...</td>\n",
              "      <td>...</td>\n",
              "      <td>...</td>\n",
              "      <td>...</td>\n",
              "      <td>...</td>\n",
              "      <td>...</td>\n",
              "    </tr>\n",
              "    <tr>\n",
              "      <th>18615</th>\n",
              "      <td>WASTKJFB</td>\n",
              "      <td>Samsung</td>\n",
              "      <td>A04</td>\n",
              "      <td>52S</td>\n",
              "      <td>Jose Francisco Martinez Aviles</td>\n",
              "      <td>mun002</td>\n",
              "      <td>comunicatec</td>\n",
              "      <td>2023-04-20 00:00:00</td>\n",
              "      <td>2023-04-27 00:00:00</td>\n",
              "      <td>Corriente</td>\n",
              "      <td>...</td>\n",
              "      <td>0</td>\n",
              "      <td>2</td>\n",
              "      <td>3.93</td>\n",
              "      <td>0.0</td>\n",
              "      <td>0.0</td>\n",
              "      <td>3019.00</td>\n",
              "      <td>6760.0</td>\n",
              "      <td>2598.00</td>\n",
              "      <td>130.0</td>\n",
              "      <td>421.0</td>\n",
              "    </tr>\n",
              "    <tr>\n",
              "      <th>18747</th>\n",
              "      <td>P538CSMO</td>\n",
              "      <td>TCL</td>\n",
              "      <td>6125F 20E</td>\n",
              "      <td>52S</td>\n",
              "      <td>Jose Gregorio Madrid Dolores</td>\n",
              "      <td>acel008</td>\n",
              "      <td>apartacel</td>\n",
              "      <td>2023-03-06 00:00:00</td>\n",
              "      <td>2023-03-13 00:00:00</td>\n",
              "      <td>Fraude</td>\n",
              "      <td>...</td>\n",
              "      <td>0</td>\n",
              "      <td>8</td>\n",
              "      <td>5.28</td>\n",
              "      <td>0.0</td>\n",
              "      <td>0.0</td>\n",
              "      <td>2999.00</td>\n",
              "      <td>6604.0</td>\n",
              "      <td>2541.00</td>\n",
              "      <td>127.0</td>\n",
              "      <td>458.0</td>\n",
              "    </tr>\n",
              "    <tr>\n",
              "      <th>19187</th>\n",
              "      <td>TZJJN5IN</td>\n",
              "      <td>ZTE</td>\n",
              "      <td>BLADE A52 LITE 2+32GB VERDE B</td>\n",
              "      <td>52S</td>\n",
              "      <td>Roberto Bautista Perez</td>\n",
              "      <td>mic09</td>\n",
              "      <td>microtec</td>\n",
              "      <td>2023-03-10 00:00:00</td>\n",
              "      <td>2023-03-17 00:00:00</td>\n",
              "      <td>Fraude</td>\n",
              "      <td>...</td>\n",
              "      <td>0</td>\n",
              "      <td>4</td>\n",
              "      <td>0.38</td>\n",
              "      <td>0.0</td>\n",
              "      <td>0.0</td>\n",
              "      <td>2572.83</td>\n",
              "      <td>5980.0</td>\n",
              "      <td>2305.83</td>\n",
              "      <td>115.0</td>\n",
              "      <td>267.0</td>\n",
              "    </tr>\n",
              "    <tr>\n",
              "      <th>19386</th>\n",
              "      <td>Y6NV9HBT</td>\n",
              "      <td>Motorola</td>\n",
              "      <td>Moto G51 5G</td>\n",
              "      <td>52S</td>\n",
              "      <td>Gissel VillaseÃ±or Flores</td>\n",
              "      <td>lnt003</td>\n",
              "      <td>linetelc</td>\n",
              "      <td>2023-03-05 00:00:00</td>\n",
              "      <td>2023-03-12 00:00:00</td>\n",
              "      <td>Fraude</td>\n",
              "      <td>...</td>\n",
              "      <td>0</td>\n",
              "      <td>11</td>\n",
              "      <td>1.38</td>\n",
              "      <td>0.0</td>\n",
              "      <td>0.0</td>\n",
              "      <td>7549.00</td>\n",
              "      <td>5448.5</td>\n",
              "      <td>3001.80</td>\n",
              "      <td>334.0</td>\n",
              "      <td>859.0</td>\n",
              "    </tr>\n",
              "    <tr>\n",
              "      <th>20127</th>\n",
              "      <td>VONHY9GR</td>\n",
              "      <td>SAMSUNG</td>\n",
              "      <td>GALAXY A03 4+64 GB AZUL B</td>\n",
              "      <td>52S</td>\n",
              "      <td>Evelyn Yazmin Rodriguez Garcia</td>\n",
              "      <td>mic01A</td>\n",
              "      <td>microtec</td>\n",
              "      <td>2023-04-12 00:00:00</td>\n",
              "      <td>2023-04-20 00:00:00</td>\n",
              "      <td>Corriente</td>\n",
              "      <td>...</td>\n",
              "      <td>0</td>\n",
              "      <td>11</td>\n",
              "      <td>0.50</td>\n",
              "      <td>0.0</td>\n",
              "      <td>0.0</td>\n",
              "      <td>3793.85</td>\n",
              "      <td>8840.0</td>\n",
              "      <td>3395.85</td>\n",
              "      <td>170.0</td>\n",
              "      <td>398.0</td>\n",
              "    </tr>\n",
              "  </tbody>\n",
              "</table>\n",
              "<p>450 rows × 32 columns</p>\n",
              "</div>\n",
              "    <div class=\"colab-df-buttons\">\n",
              "\n",
              "  <div class=\"colab-df-container\">\n",
              "    <button class=\"colab-df-convert\" onclick=\"convertToInteractive('df-0eee2914-f01e-41ef-92af-ce6c85acb951')\"\n",
              "            title=\"Convert this dataframe to an interactive table.\"\n",
              "            style=\"display:none;\">\n",
              "\n",
              "  <svg xmlns=\"http://www.w3.org/2000/svg\" height=\"24px\" viewBox=\"0 -960 960 960\">\n",
              "    <path d=\"M120-120v-720h720v720H120Zm60-500h600v-160H180v160Zm220 220h160v-160H400v160Zm0 220h160v-160H400v160ZM180-400h160v-160H180v160Zm440 0h160v-160H620v160ZM180-180h160v-160H180v160Zm440 0h160v-160H620v160Z\"/>\n",
              "  </svg>\n",
              "    </button>\n",
              "\n",
              "  <style>\n",
              "    .colab-df-container {\n",
              "      display:flex;\n",
              "      gap: 12px;\n",
              "    }\n",
              "\n",
              "    .colab-df-convert {\n",
              "      background-color: #E8F0FE;\n",
              "      border: none;\n",
              "      border-radius: 50%;\n",
              "      cursor: pointer;\n",
              "      display: none;\n",
              "      fill: #1967D2;\n",
              "      height: 32px;\n",
              "      padding: 0 0 0 0;\n",
              "      width: 32px;\n",
              "    }\n",
              "\n",
              "    .colab-df-convert:hover {\n",
              "      background-color: #E2EBFA;\n",
              "      box-shadow: 0px 1px 2px rgba(60, 64, 67, 0.3), 0px 1px 3px 1px rgba(60, 64, 67, 0.15);\n",
              "      fill: #174EA6;\n",
              "    }\n",
              "\n",
              "    .colab-df-buttons div {\n",
              "      margin-bottom: 4px;\n",
              "    }\n",
              "\n",
              "    [theme=dark] .colab-df-convert {\n",
              "      background-color: #3B4455;\n",
              "      fill: #D2E3FC;\n",
              "    }\n",
              "\n",
              "    [theme=dark] .colab-df-convert:hover {\n",
              "      background-color: #434B5C;\n",
              "      box-shadow: 0px 1px 3px 1px rgba(0, 0, 0, 0.15);\n",
              "      filter: drop-shadow(0px 1px 2px rgba(0, 0, 0, 0.3));\n",
              "      fill: #FFFFFF;\n",
              "    }\n",
              "  </style>\n",
              "\n",
              "    <script>\n",
              "      const buttonEl =\n",
              "        document.querySelector('#df-0eee2914-f01e-41ef-92af-ce6c85acb951 button.colab-df-convert');\n",
              "      buttonEl.style.display =\n",
              "        google.colab.kernel.accessAllowed ? 'block' : 'none';\n",
              "\n",
              "      async function convertToInteractive(key) {\n",
              "        const element = document.querySelector('#df-0eee2914-f01e-41ef-92af-ce6c85acb951');\n",
              "        const dataTable =\n",
              "          await google.colab.kernel.invokeFunction('convertToInteractive',\n",
              "                                                    [key], {});\n",
              "        if (!dataTable) return;\n",
              "\n",
              "        const docLinkHtml = 'Like what you see? Visit the ' +\n",
              "          '<a target=\"_blank\" href=https://colab.research.google.com/notebooks/data_table.ipynb>data table notebook</a>'\n",
              "          + ' to learn more about interactive tables.';\n",
              "        element.innerHTML = '';\n",
              "        dataTable['output_type'] = 'display_data';\n",
              "        await google.colab.output.renderOutput(dataTable, element);\n",
              "        const docLink = document.createElement('div');\n",
              "        docLink.innerHTML = docLinkHtml;\n",
              "        element.appendChild(docLink);\n",
              "      }\n",
              "    </script>\n",
              "  </div>\n",
              "\n",
              "\n",
              "<div id=\"df-fa3a45f0-cfd1-4746-9e03-997fd04906f2\">\n",
              "  <button class=\"colab-df-quickchart\" onclick=\"quickchart('df-fa3a45f0-cfd1-4746-9e03-997fd04906f2')\"\n",
              "            title=\"Suggest charts.\"\n",
              "            style=\"display:none;\">\n",
              "\n",
              "<svg xmlns=\"http://www.w3.org/2000/svg\" height=\"24px\"viewBox=\"0 0 24 24\"\n",
              "     width=\"24px\">\n",
              "    <g>\n",
              "        <path d=\"M19 3H5c-1.1 0-2 .9-2 2v14c0 1.1.9 2 2 2h14c1.1 0 2-.9 2-2V5c0-1.1-.9-2-2-2zM9 17H7v-7h2v7zm4 0h-2V7h2v10zm4 0h-2v-4h2v4z\"/>\n",
              "    </g>\n",
              "</svg>\n",
              "  </button>\n",
              "\n",
              "<style>\n",
              "  .colab-df-quickchart {\n",
              "      --bg-color: #E8F0FE;\n",
              "      --fill-color: #1967D2;\n",
              "      --hover-bg-color: #E2EBFA;\n",
              "      --hover-fill-color: #174EA6;\n",
              "      --disabled-fill-color: #AAA;\n",
              "      --disabled-bg-color: #DDD;\n",
              "  }\n",
              "\n",
              "  [theme=dark] .colab-df-quickchart {\n",
              "      --bg-color: #3B4455;\n",
              "      --fill-color: #D2E3FC;\n",
              "      --hover-bg-color: #434B5C;\n",
              "      --hover-fill-color: #FFFFFF;\n",
              "      --disabled-bg-color: #3B4455;\n",
              "      --disabled-fill-color: #666;\n",
              "  }\n",
              "\n",
              "  .colab-df-quickchart {\n",
              "    background-color: var(--bg-color);\n",
              "    border: none;\n",
              "    border-radius: 50%;\n",
              "    cursor: pointer;\n",
              "    display: none;\n",
              "    fill: var(--fill-color);\n",
              "    height: 32px;\n",
              "    padding: 0;\n",
              "    width: 32px;\n",
              "  }\n",
              "\n",
              "  .colab-df-quickchart:hover {\n",
              "    background-color: var(--hover-bg-color);\n",
              "    box-shadow: 0 1px 2px rgba(60, 64, 67, 0.3), 0 1px 3px 1px rgba(60, 64, 67, 0.15);\n",
              "    fill: var(--button-hover-fill-color);\n",
              "  }\n",
              "\n",
              "  .colab-df-quickchart-complete:disabled,\n",
              "  .colab-df-quickchart-complete:disabled:hover {\n",
              "    background-color: var(--disabled-bg-color);\n",
              "    fill: var(--disabled-fill-color);\n",
              "    box-shadow: none;\n",
              "  }\n",
              "\n",
              "  .colab-df-spinner {\n",
              "    border: 2px solid var(--fill-color);\n",
              "    border-color: transparent;\n",
              "    border-bottom-color: var(--fill-color);\n",
              "    animation:\n",
              "      spin 1s steps(1) infinite;\n",
              "  }\n",
              "\n",
              "  @keyframes spin {\n",
              "    0% {\n",
              "      border-color: transparent;\n",
              "      border-bottom-color: var(--fill-color);\n",
              "      border-left-color: var(--fill-color);\n",
              "    }\n",
              "    20% {\n",
              "      border-color: transparent;\n",
              "      border-left-color: var(--fill-color);\n",
              "      border-top-color: var(--fill-color);\n",
              "    }\n",
              "    30% {\n",
              "      border-color: transparent;\n",
              "      border-left-color: var(--fill-color);\n",
              "      border-top-color: var(--fill-color);\n",
              "      border-right-color: var(--fill-color);\n",
              "    }\n",
              "    40% {\n",
              "      border-color: transparent;\n",
              "      border-right-color: var(--fill-color);\n",
              "      border-top-color: var(--fill-color);\n",
              "    }\n",
              "    60% {\n",
              "      border-color: transparent;\n",
              "      border-right-color: var(--fill-color);\n",
              "    }\n",
              "    80% {\n",
              "      border-color: transparent;\n",
              "      border-right-color: var(--fill-color);\n",
              "      border-bottom-color: var(--fill-color);\n",
              "    }\n",
              "    90% {\n",
              "      border-color: transparent;\n",
              "      border-bottom-color: var(--fill-color);\n",
              "    }\n",
              "  }\n",
              "</style>\n",
              "\n",
              "  <script>\n",
              "    async function quickchart(key) {\n",
              "      const quickchartButtonEl =\n",
              "        document.querySelector('#' + key + ' button');\n",
              "      quickchartButtonEl.disabled = true;  // To prevent multiple clicks.\n",
              "      quickchartButtonEl.classList.add('colab-df-spinner');\n",
              "      try {\n",
              "        const charts = await google.colab.kernel.invokeFunction(\n",
              "            'suggestCharts', [key], {});\n",
              "      } catch (error) {\n",
              "        console.error('Error during call to suggestCharts:', error);\n",
              "      }\n",
              "      quickchartButtonEl.classList.remove('colab-df-spinner');\n",
              "      quickchartButtonEl.classList.add('colab-df-quickchart-complete');\n",
              "    }\n",
              "    (() => {\n",
              "      let quickchartButtonEl =\n",
              "        document.querySelector('#df-fa3a45f0-cfd1-4746-9e03-997fd04906f2 button');\n",
              "      quickchartButtonEl.style.display =\n",
              "        google.colab.kernel.accessAllowed ? 'block' : 'none';\n",
              "    })();\n",
              "  </script>\n",
              "</div>\n",
              "    </div>\n",
              "  </div>\n"
            ]
          },
          "metadata": {},
          "execution_count": 6
        }
      ]
    },
    {
      "cell_type": "markdown",
      "source": [
        "### 52 Semanas\n",
        "Correlación y modelo"
      ],
      "metadata": {
        "id": "4BH1VEEkb5Ei"
      }
    },
    {
      "cell_type": "code",
      "source": [
        "# Scatter plot entre la variable dependiente (total) e independientes\n",
        "# Comportamiento de su dispersión\n",
        "\n",
        "from turtle import color\n",
        "\n",
        "sns.scatterplot(x = 'enganche', y = 'precio', color = 'blue', data = Credicel52Sem)"
      ],
      "metadata": {
        "colab": {
          "base_uri": "https://localhost:8080/",
          "height": 466
        },
        "id": "0GMS1OnEbU9F",
        "outputId": "8f7ee446-9bbe-4361-af5c-7ee4615c5b5f"
      },
      "execution_count": null,
      "outputs": [
        {
          "output_type": "execute_result",
          "data": {
            "text/plain": [
              "<Axes: xlabel='enganche', ylabel='precio'>"
            ]
          },
          "metadata": {},
          "execution_count": 7
        },
        {
          "output_type": "display_data",
          "data": {
            "text/plain": [
              "<Figure size 640x480 with 1 Axes>"
            ],
            "image/png": "[encoded data removed]"
          },
          "metadata": {}
        }
      ]
    },
    {
      "cell_type": "code",
      "source": [
        "# Variable Dependiente e Independiente\n",
        "\n",
        "Var_Indep = Credicel52Sem[['enganche']]\n",
        "Var_Dep = Credicel52Sem['precio']"
      ],
      "metadata": {
        "id": "GdbvOktgc1Sf"
      },
      "execution_count": null,
      "outputs": []
    },
    {
      "cell_type": "code",
      "source": [
        "# Se define model como la función de regresión lineal\n",
        "\n",
        "from sklearn.linear_model import LinearRegression\n",
        "model = LinearRegression()"
      ],
      "metadata": {
        "id": "K2glrTT0dNkZ"
      },
      "execution_count": null,
      "outputs": []
    },
    {
      "cell_type": "code",
      "source": [
        "# Verificamos la función relacionada al modelo\n",
        "type(model)"
      ],
      "metadata": {
        "colab": {
          "base_uri": "https://localhost:8080/"
        },
        "id": "1f2X8m4XdOd6",
        "outputId": "fdc5bf19-a685-4db9-b4df-d7e2c32db70d"
      },
      "execution_count": null,
      "outputs": [
        {
          "output_type": "execute_result",
          "data": {
            "text/plain": [
              "sklearn.linear_model._base.LinearRegression"
            ]
          },
          "metadata": {},
          "execution_count": 10
        }
      ]
    },
    {
      "cell_type": "code",
      "source": [
        "# Ajustamos el modelo con las variables declaradas\n",
        "model.fit(X = Var_Indep, y = Var_Dep)\n",
        "# X debe ser mayúscula para la variable independiente"
      ],
      "metadata": {
        "colab": {
          "base_uri": "https://localhost:8080/",
          "height": 75
        },
        "id": "wnJ1eMEbdc52",
        "outputId": "62a28166-33cd-4e4e-a404-65770760b85a"
      },
      "execution_count": null,
      "outputs": [
        {
          "output_type": "execute_result",
          "data": {
            "text/plain": [
              "LinearRegression()"
            ],
            "text/html": [
              "<style>#sk-container-id-1 {color: black;background-color: white;}#sk-container-id-1 pre{padding: 0;}#sk-container-id-1 div.sk-toggleable {background-color: white;}#sk-container-id-1 label.sk-toggleable__label {cursor: pointer;display: block;width: 100%;margin-bottom: 0;padding: 0.3em;box-sizing: border-box;text-align: center;}#sk-container-id-1 label.sk-toggleable__label-arrow:before {content: \"▸\";float: left;margin-right: 0.25em;color: #696969;}#sk-container-id-1 label.sk-toggleable__label-arrow:hover:before {color: black;}#sk-container-id-1 div.sk-estimator:hover label.sk-toggleable__label-arrow:before {color: black;}#sk-container-id-1 div.sk-toggleable__content {max-height: 0;max-width: 0;overflow: hidden;text-align: left;background-color: #f0f8ff;}#sk-container-id-1 div.sk-toggleable__content pre {margin: 0.2em;color: black;border-radius: 0.25em;background-color: #f0f8ff;}#sk-container-id-1 input.sk-toggleable__control:checked~div.sk-toggleable__content {max-height: 200px;max-width: 100%;overflow: auto;}#sk-container-id-1 input.sk-toggleable__control:checked~label.sk-toggleable__label-arrow:before {content: \"▾\";}#sk-container-id-1 div.sk-estimator input.sk-toggleable__control:checked~label.sk-toggleable__label {background-color: #d4ebff;}#sk-container-id-1 div.sk-label input.sk-toggleable__control:checked~label.sk-toggleable__label {background-color: #d4ebff;}#sk-container-id-1 input.sk-hidden--visually {border: 0;clip: rect(1px 1px 1px 1px);clip: rect(1px, 1px, 1px, 1px);height: 1px;margin: -1px;overflow: hidden;padding: 0;position: absolute;width: 1px;}#sk-container-id-1 div.sk-estimator {font-family: monospace;background-color: #f0f8ff;border: 1px dotted black;border-radius: 0.25em;box-sizing: border-box;margin-bottom: 0.5em;}#sk-container-id-1 div.sk-estimator:hover {background-color: #d4ebff;}#sk-container-id-1 div.sk-parallel-item::after {content: \"\";width: 100%;border-bottom: 1px solid gray;flex-grow: 1;}#sk-container-id-1 div.sk-label:hover label.sk-toggleable__label {background-color: #d4ebff;}#sk-container-id-1 div.sk-serial::before {content: \"\";position: absolute;border-left: 1px solid gray;box-sizing: border-box;top: 0;bottom: 0;left: 50%;z-index: 0;}#sk-container-id-1 div.sk-serial {display: flex;flex-direction: column;align-items: center;background-color: white;padding-right: 0.2em;padding-left: 0.2em;position: relative;}#sk-container-id-1 div.sk-item {position: relative;z-index: 1;}#sk-container-id-1 div.sk-parallel {display: flex;align-items: stretch;justify-content: center;background-color: white;position: relative;}#sk-container-id-1 div.sk-item::before, #sk-container-id-1 div.sk-parallel-item::before {content: \"\";position: absolute;border-left: 1px solid gray;box-sizing: border-box;top: 0;bottom: 0;left: 50%;z-index: -1;}#sk-container-id-1 div.sk-parallel-item {display: flex;flex-direction: column;z-index: 1;position: relative;background-color: white;}#sk-container-id-1 div.sk-parallel-item:first-child::after {align-self: flex-end;width: 50%;}#sk-container-id-1 div.sk-parallel-item:last-child::after {align-self: flex-start;width: 50%;}#sk-container-id-1 div.sk-parallel-item:only-child::after {width: 0;}#sk-container-id-1 div.sk-dashed-wrapped {border: 1px dashed gray;margin: 0 0.4em 0.5em 0.4em;box-sizing: border-box;padding-bottom: 0.4em;background-color: white;}#sk-container-id-1 div.sk-label label {font-family: monospace;font-weight: bold;display: inline-block;line-height: 1.2em;}#sk-container-id-1 div.sk-label-container {text-align: center;}#sk-container-id-1 div.sk-container {/* jupyter's `normalize.less` sets `[hidden] { display: none; }` but bootstrap.min.css set `[hidden] { display: none !important; }` so we also need the `!important` here to be able to override the default hidden behavior on the sphinx rendered scikit-learn.org. See: https://github.com/scikit-learn/scikit-learn/issues/21755 */display: inline-block !important;position: relative;}#sk-container-id-1 div.sk-text-repr-fallback {display: none;}</style><div id=\"sk-container-id-1\" class=\"sk-top-container\"><div class=\"sk-text-repr-fallback\"><pre>LinearRegression()</pre><b>In a Jupyter environment, please rerun this cell to show the HTML representation or trust the notebook. <br />On GitHub, the HTML representation is unable to render, please try loading this page with nbviewer.org.</b></div><div class=\"sk-container\" hidden><div class=\"sk-item\"><div class=\"sk-estimator sk-toggleable\"><input class=\"sk-toggleable__control sk-hidden--visually\" id=\"sk-estimator-id-1\" type=\"checkbox\" checked><label for=\"sk-estimator-id-1\" class=\"sk-toggleable__label sk-toggleable__label-arrow\">LinearRegression</label><div class=\"sk-toggleable__content\"><pre>LinearRegression()</pre></div></div></div></div></div>"
            ]
          },
          "metadata": {},
          "execution_count": 11
        }
      ]
    },
    {
      "cell_type": "code",
      "source": [
        "# Verificamos los coeficientes obtenidos para el modelo ajustado\n",
        "\n",
        "model.__dict__"
      ],
      "metadata": {
        "colab": {
          "base_uri": "https://localhost:8080/"
        },
        "id": "pP-bKE8AdRSG",
        "outputId": "1f4adf7c-eeee-4f6d-c1c9-313b8c4c4c1b"
      },
      "execution_count": null,
      "outputs": [
        {
          "output_type": "execute_result",
          "data": {
            "text/plain": [
              "{'fit_intercept': True,\n",
              " 'copy_X': True,\n",
              " 'n_jobs': None,\n",
              " 'positive': False,\n",
              " 'feature_names_in_': array(['enganche'], dtype=object),\n",
              " 'n_features_in_': 1,\n",
              " 'coef_': array([2.84106161]),\n",
              " 'rank_': 1,\n",
              " 'singular_': array([7504.37288083]),\n",
              " 'intercept_': 1937.7708546727517}"
            ]
          },
          "metadata": {},
          "execution_count": 12
        }
      ]
    },
    {
      "cell_type": "markdown",
      "source": [
        "Modelo Matemático (Precio vs Enganche): y = 2.84106161x1 + 1937.7708546727517"
      ],
      "metadata": {
        "id": "_5BnilDxdkgL"
      }
    },
    {
      "cell_type": "code",
      "source": [
        "# Corroboramos cual es el coeficiente de Determinación de nuestro modelo\n",
        "\n",
        "coef_Deter = model.score(X = Var_Indep, y = Var_Dep)\n",
        "coef_Deter"
      ],
      "metadata": {
        "colab": {
          "base_uri": "https://localhost:8080/"
        },
        "id": "yse2A9qDeDbm",
        "outputId": "c1690310-321d-489f-f0a8-3a93a35ae812"
      },
      "execution_count": null,
      "outputs": [
        {
          "output_type": "execute_result",
          "data": {
            "text/plain": [
              "0.42189998596830414"
            ]
          },
          "metadata": {},
          "execution_count": 13
        }
      ]
    },
    {
      "cell_type": "code",
      "source": [
        "# Corroboramos cual es el coeficiente de Correlación de nuestro modelo\n",
        "coef_Correl = np.sqrt(coef_Deter)\n",
        "coef_Correl"
      ],
      "metadata": {
        "colab": {
          "base_uri": "https://localhost:8080/"
        },
        "id": "EO7vtQW3eafd",
        "outputId": "46168893-a5a4-41ea-87c0-1030be624222"
      },
      "execution_count": null,
      "outputs": [
        {
          "output_type": "execute_result",
          "data": {
            "text/plain": [
              "0.6495382867609146"
            ]
          },
          "metadata": {},
          "execution_count": 14
        }
      ]
    },
    {
      "cell_type": "code",
      "source": [
        "# Scatter plot entre la variable dependiente (total) e independientes\n",
        "# Comportamiento de su dispersión\n",
        "\n",
        "from turtle import color\n",
        "\n",
        "sns.scatterplot(x = 'monto_financiado', y = 'precio', color = 'blue', data = Credicel52Sem)"
      ],
      "metadata": {
        "colab": {
          "base_uri": "https://localhost:8080/",
          "height": 467
        },
        "id": "fnhO25gsgzv1",
        "outputId": "bce89276-85c6-4c57-db96-0836a027f725"
      },
      "execution_count": null,
      "outputs": [
        {
          "output_type": "execute_result",
          "data": {
            "text/plain": [
              "<Axes: xlabel='monto_financiado', ylabel='precio'>"
            ]
          },
          "metadata": {},
          "execution_count": 15
        },
        {
          "output_type": "display_data",
          "data": {
            "text/plain": [
              "<Figure size 640x480 with 1 Axes>"
            ],
            "image/png": "[encoded data removed]"
          },
          "metadata": {}
        }
      ]
    },
    {
      "cell_type": "code",
      "source": [
        "# Variable Dependiente e Independiente\n",
        "\n",
        "Var_Indep = Credicel52Sem[['monto_financiado']]\n",
        "Var_Dep = Credicel52Sem['precio']"
      ],
      "metadata": {
        "id": "xnManVhqhFh_"
      },
      "execution_count": null,
      "outputs": []
    },
    {
      "cell_type": "code",
      "source": [
        "# Ajustamos el modelo con las variables declaradas\n",
        "model.fit(X = Var_Indep, y = Var_Dep)\n",
        "# X debe ser mayúscula para la variable independiente"
      ],
      "metadata": {
        "colab": {
          "base_uri": "https://localhost:8080/",
          "height": 75
        },
        "id": "Mo28SX05hsqi",
        "outputId": "f8d4eebc-7483-4aca-f4a9-8b1d837c0ef3"
      },
      "execution_count": null,
      "outputs": [
        {
          "output_type": "execute_result",
          "data": {
            "text/plain": [
              "LinearRegression()"
            ],
            "text/html": [
              "<style>#sk-container-id-2 {color: black;background-color: white;}#sk-container-id-2 pre{padding: 0;}#sk-container-id-2 div.sk-toggleable {background-color: white;}#sk-container-id-2 label.sk-toggleable__label {cursor: pointer;display: block;width: 100%;margin-bottom: 0;padding: 0.3em;box-sizing: border-box;text-align: center;}#sk-container-id-2 label.sk-toggleable__label-arrow:before {content: \"▸\";float: left;margin-right: 0.25em;color: #696969;}#sk-container-id-2 label.sk-toggleable__label-arrow:hover:before {color: black;}#sk-container-id-2 div.sk-estimator:hover label.sk-toggleable__label-arrow:before {color: black;}#sk-container-id-2 div.sk-toggleable__content {max-height: 0;max-width: 0;overflow: hidden;text-align: left;background-color: #f0f8ff;}#sk-container-id-2 div.sk-toggleable__content pre {margin: 0.2em;color: black;border-radius: 0.25em;background-color: #f0f8ff;}#sk-container-id-2 input.sk-toggleable__control:checked~div.sk-toggleable__content {max-height: 200px;max-width: 100%;overflow: auto;}#sk-container-id-2 input.sk-toggleable__control:checked~label.sk-toggleable__label-arrow:before {content: \"▾\";}#sk-container-id-2 div.sk-estimator input.sk-toggleable__control:checked~label.sk-toggleable__label {background-color: #d4ebff;}#sk-container-id-2 div.sk-label input.sk-toggleable__control:checked~label.sk-toggleable__label {background-color: #d4ebff;}#sk-container-id-2 input.sk-hidden--visually {border: 0;clip: rect(1px 1px 1px 1px);clip: rect(1px, 1px, 1px, 1px);height: 1px;margin: -1px;overflow: hidden;padding: 0;position: absolute;width: 1px;}#sk-container-id-2 div.sk-estimator {font-family: monospace;background-color: #f0f8ff;border: 1px dotted black;border-radius: 0.25em;box-sizing: border-box;margin-bottom: 0.5em;}#sk-container-id-2 div.sk-estimator:hover {background-color: #d4ebff;}#sk-container-id-2 div.sk-parallel-item::after {content: \"\";width: 100%;border-bottom: 1px solid gray;flex-grow: 1;}#sk-container-id-2 div.sk-label:hover label.sk-toggleable__label {background-color: #d4ebff;}#sk-container-id-2 div.sk-serial::before {content: \"\";position: absolute;border-left: 1px solid gray;box-sizing: border-box;top: 0;bottom: 0;left: 50%;z-index: 0;}#sk-container-id-2 div.sk-serial {display: flex;flex-direction: column;align-items: center;background-color: white;padding-right: 0.2em;padding-left: 0.2em;position: relative;}#sk-container-id-2 div.sk-item {position: relative;z-index: 1;}#sk-container-id-2 div.sk-parallel {display: flex;align-items: stretch;justify-content: center;background-color: white;position: relative;}#sk-container-id-2 div.sk-item::before, #sk-container-id-2 div.sk-parallel-item::before {content: \"\";position: absolute;border-left: 1px solid gray;box-sizing: border-box;top: 0;bottom: 0;left: 50%;z-index: -1;}#sk-container-id-2 div.sk-parallel-item {display: flex;flex-direction: column;z-index: 1;position: relative;background-color: white;}#sk-container-id-2 div.sk-parallel-item:first-child::after {align-self: flex-end;width: 50%;}#sk-container-id-2 div.sk-parallel-item:last-child::after {align-self: flex-start;width: 50%;}#sk-container-id-2 div.sk-parallel-item:only-child::after {width: 0;}#sk-container-id-2 div.sk-dashed-wrapped {border: 1px dashed gray;margin: 0 0.4em 0.5em 0.4em;box-sizing: border-box;padding-bottom: 0.4em;background-color: white;}#sk-container-id-2 div.sk-label label {font-family: monospace;font-weight: bold;display: inline-block;line-height: 1.2em;}#sk-container-id-2 div.sk-label-container {text-align: center;}#sk-container-id-2 div.sk-container {/* jupyter's `normalize.less` sets `[hidden] { display: none; }` but bootstrap.min.css set `[hidden] { display: none !important; }` so we also need the `!important` here to be able to override the default hidden behavior on the sphinx rendered scikit-learn.org. See: https://github.com/scikit-learn/scikit-learn/issues/21755 */display: inline-block !important;position: relative;}#sk-container-id-2 div.sk-text-repr-fallback {display: none;}</style><div id=\"sk-container-id-2\" class=\"sk-top-container\"><div class=\"sk-text-repr-fallback\"><pre>LinearRegression()</pre><b>In a Jupyter environment, please rerun this cell to show the HTML representation or trust the notebook. <br />On GitHub, the HTML representation is unable to render, please try loading this page with nbviewer.org.</b></div><div class=\"sk-container\" hidden><div class=\"sk-item\"><div class=\"sk-estimator sk-toggleable\"><input class=\"sk-toggleable__control sk-hidden--visually\" id=\"sk-estimator-id-2\" type=\"checkbox\" checked><label for=\"sk-estimator-id-2\" class=\"sk-toggleable__label sk-toggleable__label-arrow\">LinearRegression</label><div class=\"sk-toggleable__content\"><pre>LinearRegression()</pre></div></div></div></div></div>"
            ]
          },
          "metadata": {},
          "execution_count": 17
        }
      ]
    },
    {
      "cell_type": "code",
      "source": [
        "# Verificamos los coeficientes obtenidos para el modelo ajustado\n",
        "\n",
        "model.__dict__"
      ],
      "metadata": {
        "colab": {
          "base_uri": "https://localhost:8080/"
        },
        "id": "_LnGlvt6hvJf",
        "outputId": "21c24287-2a5c-4833-a787-1597517c5759"
      },
      "execution_count": null,
      "outputs": [
        {
          "output_type": "execute_result",
          "data": {
            "text/plain": [
              "{'fit_intercept': True,\n",
              " 'copy_X': True,\n",
              " 'n_jobs': None,\n",
              " 'positive': False,\n",
              " 'feature_names_in_': array(['monto_financiado'], dtype=object),\n",
              " 'n_features_in_': 1,\n",
              " 'coef_': array([1.15167877]),\n",
              " 'rank_': 1,\n",
              " 'singular_': array([23026.06243496]),\n",
              " 'intercept_': 621.078436689324}"
            ]
          },
          "metadata": {},
          "execution_count": 18
        }
      ]
    },
    {
      "cell_type": "markdown",
      "source": [
        "Modelo Matemático (Precio vs Monto Financiado): y = 1.17545325x1 + 399.2844434554754"
      ],
      "metadata": {
        "id": "eafLXOIqh3GD"
      }
    },
    {
      "cell_type": "code",
      "source": [
        "# Corroboramos cual es el coeficiente de Determinación de nuestro modelo\n",
        "\n",
        "coef_Deter = model.score(X = Var_Indep, y = Var_Dep)\n",
        "coef_Deter"
      ],
      "metadata": {
        "colab": {
          "base_uri": "https://localhost:8080/"
        },
        "id": "rcf0h454h0Sz",
        "outputId": "3c703c60-8dbb-4b6c-a0f1-ac9fb6684960"
      },
      "execution_count": null,
      "outputs": [
        {
          "output_type": "execute_result",
          "data": {
            "text/plain": [
              "0.65271181294429"
            ]
          },
          "metadata": {},
          "execution_count": 19
        }
      ]
    },
    {
      "cell_type": "code",
      "source": [
        "# Corroboramos cual es el coeficiente de Correlación de nuestro modelo\n",
        "coef_Correl = np.sqrt(coef_Deter)\n",
        "coef_Correl"
      ],
      "metadata": {
        "colab": {
          "base_uri": "https://localhost:8080/"
        },
        "id": "2R1rHoqiibdF",
        "outputId": "ad2809fb-3c9f-437f-df95-f183c47fca77"
      },
      "execution_count": null,
      "outputs": [
        {
          "output_type": "execute_result",
          "data": {
            "text/plain": [
              "0.8079058193529058"
            ]
          },
          "metadata": {},
          "execution_count": 20
        }
      ]
    },
    {
      "cell_type": "code",
      "source": [
        "# Scatter plot entre la variable dependiente (total) e independientes\n",
        "# Comportamiento de su dispersión\n",
        "\n",
        "from turtle import color\n",
        "\n",
        "sns.scatterplot(x = 'costo_total', y = 'precio', color = 'blue', data = Credicel52Sem)"
      ],
      "metadata": {
        "colab": {
          "base_uri": "https://localhost:8080/",
          "height": 467
        },
        "id": "7FjP7v_3icXr",
        "outputId": "65d909d8-d209-423d-cd63-5368121fdbb6"
      },
      "execution_count": null,
      "outputs": [
        {
          "output_type": "execute_result",
          "data": {
            "text/plain": [
              "<Axes: xlabel='costo_total', ylabel='precio'>"
            ]
          },
          "metadata": {},
          "execution_count": 21
        },
        {
          "output_type": "display_data",
          "data": {
            "text/plain": [
              "<Figure size 640x480 with 1 Axes>"
            ],
            "image/png": "[encoded data removed]"
          },
          "metadata": {}
        }
      ]
    },
    {
      "cell_type": "code",
      "source": [
        "# Variable Dependiente e Independiente\n",
        "\n",
        "Var_Indep = Credicel52Sem[['costo_total']]\n",
        "Var_Dep = Credicel52Sem['precio']"
      ],
      "metadata": {
        "id": "Z6XnB75yjKBr"
      },
      "execution_count": null,
      "outputs": []
    },
    {
      "cell_type": "code",
      "source": [
        "# Ajustamos el modelo con las variables declaradas\n",
        "model.fit(X = Var_Indep, y = Var_Dep)\n",
        "# X debe ser mayúscula para la variable independiente"
      ],
      "metadata": {
        "colab": {
          "base_uri": "https://localhost:8080/",
          "height": 75
        },
        "id": "kslJyw9Zm3G7",
        "outputId": "62ccd94c-a16a-4ea9-9548-ab97c42de150"
      },
      "execution_count": null,
      "outputs": [
        {
          "output_type": "execute_result",
          "data": {
            "text/plain": [
              "LinearRegression()"
            ],
            "text/html": [
              "<style>#sk-container-id-3 {color: black;background-color: white;}#sk-container-id-3 pre{padding: 0;}#sk-container-id-3 div.sk-toggleable {background-color: white;}#sk-container-id-3 label.sk-toggleable__label {cursor: pointer;display: block;width: 100%;margin-bottom: 0;padding: 0.3em;box-sizing: border-box;text-align: center;}#sk-container-id-3 label.sk-toggleable__label-arrow:before {content: \"▸\";float: left;margin-right: 0.25em;color: #696969;}#sk-container-id-3 label.sk-toggleable__label-arrow:hover:before {color: black;}#sk-container-id-3 div.sk-estimator:hover label.sk-toggleable__label-arrow:before {color: black;}#sk-container-id-3 div.sk-toggleable__content {max-height: 0;max-width: 0;overflow: hidden;text-align: left;background-color: #f0f8ff;}#sk-container-id-3 div.sk-toggleable__content pre {margin: 0.2em;color: black;border-radius: 0.25em;background-color: #f0f8ff;}#sk-container-id-3 input.sk-toggleable__control:checked~div.sk-toggleable__content {max-height: 200px;max-width: 100%;overflow: auto;}#sk-container-id-3 input.sk-toggleable__control:checked~label.sk-toggleable__label-arrow:before {content: \"▾\";}#sk-container-id-3 div.sk-estimator input.sk-toggleable__control:checked~label.sk-toggleable__label {background-color: #d4ebff;}#sk-container-id-3 div.sk-label input.sk-toggleable__control:checked~label.sk-toggleable__label {background-color: #d4ebff;}#sk-container-id-3 input.sk-hidden--visually {border: 0;clip: rect(1px 1px 1px 1px);clip: rect(1px, 1px, 1px, 1px);height: 1px;margin: -1px;overflow: hidden;padding: 0;position: absolute;width: 1px;}#sk-container-id-3 div.sk-estimator {font-family: monospace;background-color: #f0f8ff;border: 1px dotted black;border-radius: 0.25em;box-sizing: border-box;margin-bottom: 0.5em;}#sk-container-id-3 div.sk-estimator:hover {background-color: #d4ebff;}#sk-container-id-3 div.sk-parallel-item::after {content: \"\";width: 100%;border-bottom: 1px solid gray;flex-grow: 1;}#sk-container-id-3 div.sk-label:hover label.sk-toggleable__label {background-color: #d4ebff;}#sk-container-id-3 div.sk-serial::before {content: \"\";position: absolute;border-left: 1px solid gray;box-sizing: border-box;top: 0;bottom: 0;left: 50%;z-index: 0;}#sk-container-id-3 div.sk-serial {display: flex;flex-direction: column;align-items: center;background-color: white;padding-right: 0.2em;padding-left: 0.2em;position: relative;}#sk-container-id-3 div.sk-item {position: relative;z-index: 1;}#sk-container-id-3 div.sk-parallel {display: flex;align-items: stretch;justify-content: center;background-color: white;position: relative;}#sk-container-id-3 div.sk-item::before, #sk-container-id-3 div.sk-parallel-item::before {content: \"\";position: absolute;border-left: 1px solid gray;box-sizing: border-box;top: 0;bottom: 0;left: 50%;z-index: -1;}#sk-container-id-3 div.sk-parallel-item {display: flex;flex-direction: column;z-index: 1;position: relative;background-color: white;}#sk-container-id-3 div.sk-parallel-item:first-child::after {align-self: flex-end;width: 50%;}#sk-container-id-3 div.sk-parallel-item:last-child::after {align-self: flex-start;width: 50%;}#sk-container-id-3 div.sk-parallel-item:only-child::after {width: 0;}#sk-container-id-3 div.sk-dashed-wrapped {border: 1px dashed gray;margin: 0 0.4em 0.5em 0.4em;box-sizing: border-box;padding-bottom: 0.4em;background-color: white;}#sk-container-id-3 div.sk-label label {font-family: monospace;font-weight: bold;display: inline-block;line-height: 1.2em;}#sk-container-id-3 div.sk-label-container {text-align: center;}#sk-container-id-3 div.sk-container {/* jupyter's `normalize.less` sets `[hidden] { display: none; }` but bootstrap.min.css set `[hidden] { display: none !important; }` so we also need the `!important` here to be able to override the default hidden behavior on the sphinx rendered scikit-learn.org. See: https://github.com/scikit-learn/scikit-learn/issues/21755 */display: inline-block !important;position: relative;}#sk-container-id-3 div.sk-text-repr-fallback {display: none;}</style><div id=\"sk-container-id-3\" class=\"sk-top-container\"><div class=\"sk-text-repr-fallback\"><pre>LinearRegression()</pre><b>In a Jupyter environment, please rerun this cell to show the HTML representation or trust the notebook. <br />On GitHub, the HTML representation is unable to render, please try loading this page with nbviewer.org.</b></div><div class=\"sk-container\" hidden><div class=\"sk-item\"><div class=\"sk-estimator sk-toggleable\"><input class=\"sk-toggleable__control sk-hidden--visually\" id=\"sk-estimator-id-3\" type=\"checkbox\" checked><label for=\"sk-estimator-id-3\" class=\"sk-toggleable__label sk-toggleable__label-arrow\">LinearRegression</label><div class=\"sk-toggleable__content\"><pre>LinearRegression()</pre></div></div></div></div></div>"
            ]
          },
          "metadata": {},
          "execution_count": 23
        }
      ]
    },
    {
      "cell_type": "code",
      "source": [
        "# Verificamos los coeficientes obtenidos para el modelo ajustado\n",
        "\n",
        "model.__dict__"
      ],
      "metadata": {
        "colab": {
          "base_uri": "https://localhost:8080/"
        },
        "id": "5gYHGhlum6Yb",
        "outputId": "eb772a6a-7d06-40cf-de96-925177979c14"
      },
      "execution_count": null,
      "outputs": [
        {
          "output_type": "execute_result",
          "data": {
            "text/plain": [
              "{'fit_intercept': True,\n",
              " 'copy_X': True,\n",
              " 'n_jobs': None,\n",
              " 'positive': False,\n",
              " 'feature_names_in_': array(['costo_total'], dtype=object),\n",
              " 'n_features_in_': 1,\n",
              " 'coef_': array([0.03094899]),\n",
              " 'rank_': 1,\n",
              " 'singular_': array([38820.09768875]),\n",
              " 'intercept_': 4267.0067463112655}"
            ]
          },
          "metadata": {},
          "execution_count": 24
        }
      ]
    },
    {
      "cell_type": "markdown",
      "source": [
        "Modelo Matemático (Precio vs Costo Total): y = 0.03094899x1 + 4267.0067463112655\n"
      ],
      "metadata": {
        "id": "MMw4cKw_m9bN"
      }
    },
    {
      "cell_type": "code",
      "source": [
        "# Corroboramos cual es el coeficiente de Determinación de nuestro modelo\n",
        "\n",
        "coef_Deter = model.score(X = Var_Indep, y = Var_Dep)\n",
        "coef_Deter"
      ],
      "metadata": {
        "id": "NPPe06jrnIw3",
        "colab": {
          "base_uri": "https://localhost:8080/"
        },
        "outputId": "840b5efd-1c66-4d1e-f7d6-67924e196253"
      },
      "execution_count": null,
      "outputs": [
        {
          "output_type": "execute_result",
          "data": {
            "text/plain": [
              "0.0013397555626796231"
            ]
          },
          "metadata": {},
          "execution_count": 25
        }
      ]
    },
    {
      "cell_type": "code",
      "source": [
        "# Corroboramos cual es el coeficiente de Correlación de nuestro modelo\n",
        "coef_Correl = np.sqrt(coef_Deter)\n",
        "coef_Correl"
      ],
      "metadata": {
        "colab": {
          "base_uri": "https://localhost:8080/"
        },
        "id": "MqVvewG3vhwf",
        "outputId": "a6c5ee63-9ef8-4ddc-d20c-0b54f8ccfc92"
      },
      "execution_count": null,
      "outputs": [
        {
          "output_type": "execute_result",
          "data": {
            "text/plain": [
              "0.03660267152380579"
            ]
          },
          "metadata": {},
          "execution_count": 26
        }
      ]
    },
    {
      "cell_type": "code",
      "source": [
        "# Scatter plot entre la variable dependiente (total) e independientes\n",
        "# Comportamiento de su dispersión\n",
        "\n",
        "from turtle import color\n",
        "\n",
        "sns.scatterplot(x = 'monto_financiado', y = 'costo_total', color = 'blue', data = Credicel52Sem)"
      ],
      "metadata": {
        "colab": {
          "base_uri": "https://localhost:8080/",
          "height": 467
        },
        "id": "0_Jc6lcQwIKR",
        "outputId": "0db7b526-3249-4e02-a987-1ae3a6ff3c2e"
      },
      "execution_count": null,
      "outputs": [
        {
          "output_type": "execute_result",
          "data": {
            "text/plain": [
              "<Axes: xlabel='monto_financiado', ylabel='costo_total'>"
            ]
          },
          "metadata": {},
          "execution_count": 27
        },
        {
          "output_type": "display_data",
          "data": {
            "text/plain": [
              "<Figure size 640x480 with 1 Axes>"
            ],
            "image/png": "[encoded data removed]"
          },
          "metadata": {}
        }
      ]
    },
    {
      "cell_type": "code",
      "source": [
        "# Variable Dependiente e Independiente\n",
        "\n",
        "Var_Indep = Credicel52Sem[['monto_financiado']]\n",
        "Var_Dep = Credicel52Sem['costo_total']"
      ],
      "metadata": {
        "id": "R0svKuPkvo_Y"
      },
      "execution_count": null,
      "outputs": []
    },
    {
      "cell_type": "code",
      "source": [
        "# Ajustamos el modelo con las variables declaradas\n",
        "model.fit(X = Var_Indep, y = Var_Dep)\n",
        "# X debe ser mayúscula para la variable independiente"
      ],
      "metadata": {
        "colab": {
          "base_uri": "https://localhost:8080/",
          "height": 75
        },
        "id": "Y3ZmGvRMwXsk",
        "outputId": "6d3a0a65-85bd-4cd0-b0f4-9d6cef748dea"
      },
      "execution_count": null,
      "outputs": [
        {
          "output_type": "execute_result",
          "data": {
            "text/plain": [
              "LinearRegression()"
            ],
            "text/html": [
              "<style>#sk-container-id-4 {color: black;background-color: white;}#sk-container-id-4 pre{padding: 0;}#sk-container-id-4 div.sk-toggleable {background-color: white;}#sk-container-id-4 label.sk-toggleable__label {cursor: pointer;display: block;width: 100%;margin-bottom: 0;padding: 0.3em;box-sizing: border-box;text-align: center;}#sk-container-id-4 label.sk-toggleable__label-arrow:before {content: \"▸\";float: left;margin-right: 0.25em;color: #696969;}#sk-container-id-4 label.sk-toggleable__label-arrow:hover:before {color: black;}#sk-container-id-4 div.sk-estimator:hover label.sk-toggleable__label-arrow:before {color: black;}#sk-container-id-4 div.sk-toggleable__content {max-height: 0;max-width: 0;overflow: hidden;text-align: left;background-color: #f0f8ff;}#sk-container-id-4 div.sk-toggleable__content pre {margin: 0.2em;color: black;border-radius: 0.25em;background-color: #f0f8ff;}#sk-container-id-4 input.sk-toggleable__control:checked~div.sk-toggleable__content {max-height: 200px;max-width: 100%;overflow: auto;}#sk-container-id-4 input.sk-toggleable__control:checked~label.sk-toggleable__label-arrow:before {content: \"▾\";}#sk-container-id-4 div.sk-estimator input.sk-toggleable__control:checked~label.sk-toggleable__label {background-color: #d4ebff;}#sk-container-id-4 div.sk-label input.sk-toggleable__control:checked~label.sk-toggleable__label {background-color: #d4ebff;}#sk-container-id-4 input.sk-hidden--visually {border: 0;clip: rect(1px 1px 1px 1px);clip: rect(1px, 1px, 1px, 1px);height: 1px;margin: -1px;overflow: hidden;padding: 0;position: absolute;width: 1px;}#sk-container-id-4 div.sk-estimator {font-family: monospace;background-color: #f0f8ff;border: 1px dotted black;border-radius: 0.25em;box-sizing: border-box;margin-bottom: 0.5em;}#sk-container-id-4 div.sk-estimator:hover {background-color: #d4ebff;}#sk-container-id-4 div.sk-parallel-item::after {content: \"\";width: 100%;border-bottom: 1px solid gray;flex-grow: 1;}#sk-container-id-4 div.sk-label:hover label.sk-toggleable__label {background-color: #d4ebff;}#sk-container-id-4 div.sk-serial::before {content: \"\";position: absolute;border-left: 1px solid gray;box-sizing: border-box;top: 0;bottom: 0;left: 50%;z-index: 0;}#sk-container-id-4 div.sk-serial {display: flex;flex-direction: column;align-items: center;background-color: white;padding-right: 0.2em;padding-left: 0.2em;position: relative;}#sk-container-id-4 div.sk-item {position: relative;z-index: 1;}#sk-container-id-4 div.sk-parallel {display: flex;align-items: stretch;justify-content: center;background-color: white;position: relative;}#sk-container-id-4 div.sk-item::before, #sk-container-id-4 div.sk-parallel-item::before {content: \"\";position: absolute;border-left: 1px solid gray;box-sizing: border-box;top: 0;bottom: 0;left: 50%;z-index: -1;}#sk-container-id-4 div.sk-parallel-item {display: flex;flex-direction: column;z-index: 1;position: relative;background-color: white;}#sk-container-id-4 div.sk-parallel-item:first-child::after {align-self: flex-end;width: 50%;}#sk-container-id-4 div.sk-parallel-item:last-child::after {align-self: flex-start;width: 50%;}#sk-container-id-4 div.sk-parallel-item:only-child::after {width: 0;}#sk-container-id-4 div.sk-dashed-wrapped {border: 1px dashed gray;margin: 0 0.4em 0.5em 0.4em;box-sizing: border-box;padding-bottom: 0.4em;background-color: white;}#sk-container-id-4 div.sk-label label {font-family: monospace;font-weight: bold;display: inline-block;line-height: 1.2em;}#sk-container-id-4 div.sk-label-container {text-align: center;}#sk-container-id-4 div.sk-container {/* jupyter's `normalize.less` sets `[hidden] { display: none; }` but bootstrap.min.css set `[hidden] { display: none !important; }` so we also need the `!important` here to be able to override the default hidden behavior on the sphinx rendered scikit-learn.org. See: https://github.com/scikit-learn/scikit-learn/issues/21755 */display: inline-block !important;position: relative;}#sk-container-id-4 div.sk-text-repr-fallback {display: none;}</style><div id=\"sk-container-id-4\" class=\"sk-top-container\"><div class=\"sk-text-repr-fallback\"><pre>LinearRegression()</pre><b>In a Jupyter environment, please rerun this cell to show the HTML representation or trust the notebook. <br />On GitHub, the HTML representation is unable to render, please try loading this page with nbviewer.org.</b></div><div class=\"sk-container\" hidden><div class=\"sk-item\"><div class=\"sk-estimator sk-toggleable\"><input class=\"sk-toggleable__control sk-hidden--visually\" id=\"sk-estimator-id-4\" type=\"checkbox\" checked><label for=\"sk-estimator-id-4\" class=\"sk-toggleable__label sk-toggleable__label-arrow\">LinearRegression</label><div class=\"sk-toggleable__content\"><pre>LinearRegression()</pre></div></div></div></div></div>"
            ]
          },
          "metadata": {},
          "execution_count": 29
        }
      ]
    },
    {
      "cell_type": "code",
      "source": [
        "# Verificamos los coeficientes obtenidos para el modelo ajustado\n",
        "\n",
        "model.__dict__"
      ],
      "metadata": {
        "colab": {
          "base_uri": "https://localhost:8080/"
        },
        "id": "Po4iLYNYwdTP",
        "outputId": "1ffa4800-be89-4443-c41f-3b9f004bef32"
      },
      "execution_count": null,
      "outputs": [
        {
          "output_type": "execute_result",
          "data": {
            "text/plain": [
              "{'fit_intercept': True,\n",
              " 'copy_X': True,\n",
              " 'n_jobs': None,\n",
              " 'positive': False,\n",
              " 'feature_names_in_': array(['monto_financiado'], dtype=object),\n",
              " 'n_features_in_': 1,\n",
              " 'coef_': array([0.26633186]),\n",
              " 'rank_': 1,\n",
              " 'singular_': array([23026.06243496]),\n",
              " 'intercept_': 5791.50128376182}"
            ]
          },
          "metadata": {},
          "execution_count": 30
        }
      ]
    },
    {
      "cell_type": "markdown",
      "source": [
        "Modelo Matemático (Costo Total vs Monto Financiado): y = 0.26633186x1 + 5791.50128376182"
      ],
      "metadata": {
        "id": "5W6bEWD7wgz0"
      }
    },
    {
      "cell_type": "code",
      "source": [
        "# Corroboramos cual es el coeficiente de Determinación de nuestro modelo\n",
        "\n",
        "coef_Deter = model.score(X = Var_Indep, y = Var_Dep)\n",
        "coef_Deter"
      ],
      "metadata": {
        "colab": {
          "base_uri": "https://localhost:8080/"
        },
        "id": "IjBZ03InwvVi",
        "outputId": "faf9b336-97b9-4b08-c959-fc7668ff7028"
      },
      "execution_count": null,
      "outputs": [
        {
          "output_type": "execute_result",
          "data": {
            "text/plain": [
              "0.02495584944851803"
            ]
          },
          "metadata": {},
          "execution_count": 31
        }
      ]
    },
    {
      "cell_type": "code",
      "source": [
        "# Corroboramos cual es el coeficiente de Correlación de nuestro modelo\n",
        "coef_Correl = np.sqrt(coef_Deter)\n",
        "coef_Correl"
      ],
      "metadata": {
        "colab": {
          "base_uri": "https://localhost:8080/"
        },
        "id": "OdkH2PlSwy7l",
        "outputId": "23dfe63f-c489-4fea-abe7-d5d639210dd5"
      },
      "execution_count": null,
      "outputs": [
        {
          "output_type": "execute_result",
          "data": {
            "text/plain": [
              "0.15797420500992568"
            ]
          },
          "metadata": {},
          "execution_count": 32
        }
      ]
    },
    {
      "cell_type": "code",
      "source": [
        "# Scatter plot entre la variable dependiente (total) e independientes\n",
        "# Comportamiento de su dispersión\n",
        "\n",
        "from turtle import color\n",
        "\n",
        "sns.scatterplot(x = 'semana', y = 'precio', color = 'blue', data = Credicel52Sem)"
      ],
      "metadata": {
        "colab": {
          "base_uri": "https://localhost:8080/",
          "height": 466
        },
        "id": "2SdO2D-Qw4D5",
        "outputId": "a7b6bd1a-b18c-481f-e43b-2790946d3f03"
      },
      "execution_count": null,
      "outputs": [
        {
          "output_type": "execute_result",
          "data": {
            "text/plain": [
              "<Axes: xlabel='semana', ylabel='precio'>"
            ]
          },
          "metadata": {},
          "execution_count": 33
        },
        {
          "output_type": "display_data",
          "data": {
            "text/plain": [
              "<Figure size 640x480 with 1 Axes>"
            ],
            "image/png": "[encoded data removed]"
          },
          "metadata": {}
        }
      ]
    },
    {
      "cell_type": "code",
      "source": [
        "# Variable Dependiente e Independiente\n",
        "\n",
        "Var_Indep = Credicel52Sem[['semana']]\n",
        "Var_Dep = Credicel52Sem['precio']"
      ],
      "metadata": {
        "id": "5qObXEurxJ6n"
      },
      "execution_count": null,
      "outputs": []
    },
    {
      "cell_type": "code",
      "source": [
        "# Ajustamos el modelo con las variables declaradas\n",
        "model.fit(X = Var_Indep, y = Var_Dep)\n",
        "# X debe ser mayúscula para la variable independiente"
      ],
      "metadata": {
        "colab": {
          "base_uri": "https://localhost:8080/",
          "height": 75
        },
        "id": "opOs6vPYxQKP",
        "outputId": "a38e9f52-6945-4dd5-c94e-1f2212d531ee"
      },
      "execution_count": null,
      "outputs": [
        {
          "output_type": "execute_result",
          "data": {
            "text/plain": [
              "LinearRegression()"
            ],
            "text/html": [
              "<style>#sk-container-id-5 {color: black;background-color: white;}#sk-container-id-5 pre{padding: 0;}#sk-container-id-5 div.sk-toggleable {background-color: white;}#sk-container-id-5 label.sk-toggleable__label {cursor: pointer;display: block;width: 100%;margin-bottom: 0;padding: 0.3em;box-sizing: border-box;text-align: center;}#sk-container-id-5 label.sk-toggleable__label-arrow:before {content: \"▸\";float: left;margin-right: 0.25em;color: #696969;}#sk-container-id-5 label.sk-toggleable__label-arrow:hover:before {color: black;}#sk-container-id-5 div.sk-estimator:hover label.sk-toggleable__label-arrow:before {color: black;}#sk-container-id-5 div.sk-toggleable__content {max-height: 0;max-width: 0;overflow: hidden;text-align: left;background-color: #f0f8ff;}#sk-container-id-5 div.sk-toggleable__content pre {margin: 0.2em;color: black;border-radius: 0.25em;background-color: #f0f8ff;}#sk-container-id-5 input.sk-toggleable__control:checked~div.sk-toggleable__content {max-height: 200px;max-width: 100%;overflow: auto;}#sk-container-id-5 input.sk-toggleable__control:checked~label.sk-toggleable__label-arrow:before {content: \"▾\";}#sk-container-id-5 div.sk-estimator input.sk-toggleable__control:checked~label.sk-toggleable__label {background-color: #d4ebff;}#sk-container-id-5 div.sk-label input.sk-toggleable__control:checked~label.sk-toggleable__label {background-color: #d4ebff;}#sk-container-id-5 input.sk-hidden--visually {border: 0;clip: rect(1px 1px 1px 1px);clip: rect(1px, 1px, 1px, 1px);height: 1px;margin: -1px;overflow: hidden;padding: 0;position: absolute;width: 1px;}#sk-container-id-5 div.sk-estimator {font-family: monospace;background-color: #f0f8ff;border: 1px dotted black;border-radius: 0.25em;box-sizing: border-box;margin-bottom: 0.5em;}#sk-container-id-5 div.sk-estimator:hover {background-color: #d4ebff;}#sk-container-id-5 div.sk-parallel-item::after {content: \"\";width: 100%;border-bottom: 1px solid gray;flex-grow: 1;}#sk-container-id-5 div.sk-label:hover label.sk-toggleable__label {background-color: #d4ebff;}#sk-container-id-5 div.sk-serial::before {content: \"\";position: absolute;border-left: 1px solid gray;box-sizing: border-box;top: 0;bottom: 0;left: 50%;z-index: 0;}#sk-container-id-5 div.sk-serial {display: flex;flex-direction: column;align-items: center;background-color: white;padding-right: 0.2em;padding-left: 0.2em;position: relative;}#sk-container-id-5 div.sk-item {position: relative;z-index: 1;}#sk-container-id-5 div.sk-parallel {display: flex;align-items: stretch;justify-content: center;background-color: white;position: relative;}#sk-container-id-5 div.sk-item::before, #sk-container-id-5 div.sk-parallel-item::before {content: \"\";position: absolute;border-left: 1px solid gray;box-sizing: border-box;top: 0;bottom: 0;left: 50%;z-index: -1;}#sk-container-id-5 div.sk-parallel-item {display: flex;flex-direction: column;z-index: 1;position: relative;background-color: white;}#sk-container-id-5 div.sk-parallel-item:first-child::after {align-self: flex-end;width: 50%;}#sk-container-id-5 div.sk-parallel-item:last-child::after {align-self: flex-start;width: 50%;}#sk-container-id-5 div.sk-parallel-item:only-child::after {width: 0;}#sk-container-id-5 div.sk-dashed-wrapped {border: 1px dashed gray;margin: 0 0.4em 0.5em 0.4em;box-sizing: border-box;padding-bottom: 0.4em;background-color: white;}#sk-container-id-5 div.sk-label label {font-family: monospace;font-weight: bold;display: inline-block;line-height: 1.2em;}#sk-container-id-5 div.sk-label-container {text-align: center;}#sk-container-id-5 div.sk-container {/* jupyter's `normalize.less` sets `[hidden] { display: none; }` but bootstrap.min.css set `[hidden] { display: none !important; }` so we also need the `!important` here to be able to override the default hidden behavior on the sphinx rendered scikit-learn.org. See: https://github.com/scikit-learn/scikit-learn/issues/21755 */display: inline-block !important;position: relative;}#sk-container-id-5 div.sk-text-repr-fallback {display: none;}</style><div id=\"sk-container-id-5\" class=\"sk-top-container\"><div class=\"sk-text-repr-fallback\"><pre>LinearRegression()</pre><b>In a Jupyter environment, please rerun this cell to show the HTML representation or trust the notebook. <br />On GitHub, the HTML representation is unable to render, please try loading this page with nbviewer.org.</b></div><div class=\"sk-container\" hidden><div class=\"sk-item\"><div class=\"sk-estimator sk-toggleable\"><input class=\"sk-toggleable__control sk-hidden--visually\" id=\"sk-estimator-id-5\" type=\"checkbox\" checked><label for=\"sk-estimator-id-5\" class=\"sk-toggleable__label sk-toggleable__label-arrow\">LinearRegression</label><div class=\"sk-toggleable__content\"><pre>LinearRegression()</pre></div></div></div></div></div>"
            ]
          },
          "metadata": {},
          "execution_count": 35
        }
      ]
    },
    {
      "cell_type": "code",
      "source": [
        "# Verificamos los coeficientes obtenidos para el modelo ajustado\n",
        "\n",
        "model.__dict__"
      ],
      "metadata": {
        "colab": {
          "base_uri": "https://localhost:8080/"
        },
        "id": "tbzQtwhQxUB8",
        "outputId": "028eec2c-19dd-4dc8-df5a-da5d849ebf34"
      },
      "execution_count": null,
      "outputs": [
        {
          "output_type": "execute_result",
          "data": {
            "text/plain": [
              "{'fit_intercept': True,\n",
              " 'copy_X': True,\n",
              " 'n_jobs': None,\n",
              " 'positive': False,\n",
              " 'feature_names_in_': array(['semana'], dtype=object),\n",
              " 'n_features_in_': 1,\n",
              " 'coef_': array([18.81090615]),\n",
              " 'rank_': 1,\n",
              " 'singular_': array([1484.51513671]),\n",
              " 'intercept_': 999.7406476837346}"
            ]
          },
          "metadata": {},
          "execution_count": 36
        }
      ]
    },
    {
      "cell_type": "markdown",
      "source": [
        "Modelo Matemático (Precio vs Semana): y = 18.81090615x1 + 999.7406476837346"
      ],
      "metadata": {
        "id": "xMk-f1s6xcB2"
      }
    },
    {
      "cell_type": "code",
      "source": [
        "# Corroboramos cual es el coeficiente de Determinación de nuestro modelo\n",
        "\n",
        "coef_Deter = model.score(X = Var_Indep, y = Var_Dep)\n",
        "coef_Deter"
      ],
      "metadata": {
        "colab": {
          "base_uri": "https://localhost:8080/"
        },
        "id": "f-8f6_jnxott",
        "outputId": "3a0efa65-df85-418f-cfba-30396ac40e43"
      },
      "execution_count": null,
      "outputs": [
        {
          "output_type": "execute_result",
          "data": {
            "text/plain": [
              "0.7237825227082211"
            ]
          },
          "metadata": {},
          "execution_count": 37
        }
      ]
    },
    {
      "cell_type": "code",
      "source": [
        "# Corroboramos cual es el coeficiente de Correlación de nuestro modelo\n",
        "coef_Correl = np.sqrt(coef_Deter)\n",
        "coef_Correl"
      ],
      "metadata": {
        "colab": {
          "base_uri": "https://localhost:8080/"
        },
        "id": "lTvkHgcVx2sl",
        "outputId": "86370cdf-c55c-46c1-cb80-c9e9de83104f"
      },
      "execution_count": null,
      "outputs": [
        {
          "output_type": "execute_result",
          "data": {
            "text/plain": [
              "0.8507540906209156"
            ]
          },
          "metadata": {},
          "execution_count": 38
        }
      ]
    },
    {
      "cell_type": "code",
      "source": [
        "# Scatter plot entre la variable dependiente (total) e independientes\n",
        "# Comportamiento de su dispersión\n",
        "\n",
        "from turtle import color\n",
        "\n",
        "sns.scatterplot(x = 'pagos_realizados', y = 'precio', color = 'blue', data = Credicel52Sem)"
      ],
      "metadata": {
        "colab": {
          "base_uri": "https://localhost:8080/",
          "height": 467
        },
        "id": "LFKVU_eiyAye",
        "outputId": "805c66bb-9028-42b3-cd13-24ac1fca4c8c"
      },
      "execution_count": null,
      "outputs": [
        {
          "output_type": "execute_result",
          "data": {
            "text/plain": [
              "<Axes: xlabel='pagos_realizados', ylabel='precio'>"
            ]
          },
          "metadata": {},
          "execution_count": 39
        },
        {
          "output_type": "display_data",
          "data": {
            "text/plain": [
              "<Figure size 640x480 with 1 Axes>"
            ],
            "image/png": "[encoded data removed]"
          },
          "metadata": {}
        }
      ]
    },
    {
      "cell_type": "code",
      "source": [
        "# Variable Dependiente e Independiente\n",
        "\n",
        "Var_Indep = Credicel52Sem[['pagos_realizados']]\n",
        "Var_Dep = Credicel52Sem['precio']"
      ],
      "metadata": {
        "id": "UZIhy0ClyK8O"
      },
      "execution_count": null,
      "outputs": []
    },
    {
      "cell_type": "code",
      "source": [
        "# Ajustamos el modelo con las variables declaradas\n",
        "model.fit(X = Var_Indep, y = Var_Dep)\n",
        "# X debe ser mayúscula para la variable independiente"
      ],
      "metadata": {
        "colab": {
          "base_uri": "https://localhost:8080/",
          "height": 75
        },
        "id": "2nmI3mETybfO",
        "outputId": "5847afd4-64fa-481c-e743-ee7c9bfaf3a2"
      },
      "execution_count": null,
      "outputs": [
        {
          "output_type": "execute_result",
          "data": {
            "text/plain": [
              "LinearRegression()"
            ],
            "text/html": [
              "<style>#sk-container-id-6 {color: black;background-color: white;}#sk-container-id-6 pre{padding: 0;}#sk-container-id-6 div.sk-toggleable {background-color: white;}#sk-container-id-6 label.sk-toggleable__label {cursor: pointer;display: block;width: 100%;margin-bottom: 0;padding: 0.3em;box-sizing: border-box;text-align: center;}#sk-container-id-6 label.sk-toggleable__label-arrow:before {content: \"▸\";float: left;margin-right: 0.25em;color: #696969;}#sk-container-id-6 label.sk-toggleable__label-arrow:hover:before {color: black;}#sk-container-id-6 div.sk-estimator:hover label.sk-toggleable__label-arrow:before {color: black;}#sk-container-id-6 div.sk-toggleable__content {max-height: 0;max-width: 0;overflow: hidden;text-align: left;background-color: #f0f8ff;}#sk-container-id-6 div.sk-toggleable__content pre {margin: 0.2em;color: black;border-radius: 0.25em;background-color: #f0f8ff;}#sk-container-id-6 input.sk-toggleable__control:checked~div.sk-toggleable__content {max-height: 200px;max-width: 100%;overflow: auto;}#sk-container-id-6 input.sk-toggleable__control:checked~label.sk-toggleable__label-arrow:before {content: \"▾\";}#sk-container-id-6 div.sk-estimator input.sk-toggleable__control:checked~label.sk-toggleable__label {background-color: #d4ebff;}#sk-container-id-6 div.sk-label input.sk-toggleable__control:checked~label.sk-toggleable__label {background-color: #d4ebff;}#sk-container-id-6 input.sk-hidden--visually {border: 0;clip: rect(1px 1px 1px 1px);clip: rect(1px, 1px, 1px, 1px);height: 1px;margin: -1px;overflow: hidden;padding: 0;position: absolute;width: 1px;}#sk-container-id-6 div.sk-estimator {font-family: monospace;background-color: #f0f8ff;border: 1px dotted black;border-radius: 0.25em;box-sizing: border-box;margin-bottom: 0.5em;}#sk-container-id-6 div.sk-estimator:hover {background-color: #d4ebff;}#sk-container-id-6 div.sk-parallel-item::after {content: \"\";width: 100%;border-bottom: 1px solid gray;flex-grow: 1;}#sk-container-id-6 div.sk-label:hover label.sk-toggleable__label {background-color: #d4ebff;}#sk-container-id-6 div.sk-serial::before {content: \"\";position: absolute;border-left: 1px solid gray;box-sizing: border-box;top: 0;bottom: 0;left: 50%;z-index: 0;}#sk-container-id-6 div.sk-serial {display: flex;flex-direction: column;align-items: center;background-color: white;padding-right: 0.2em;padding-left: 0.2em;position: relative;}#sk-container-id-6 div.sk-item {position: relative;z-index: 1;}#sk-container-id-6 div.sk-parallel {display: flex;align-items: stretch;justify-content: center;background-color: white;position: relative;}#sk-container-id-6 div.sk-item::before, #sk-container-id-6 div.sk-parallel-item::before {content: \"\";position: absolute;border-left: 1px solid gray;box-sizing: border-box;top: 0;bottom: 0;left: 50%;z-index: -1;}#sk-container-id-6 div.sk-parallel-item {display: flex;flex-direction: column;z-index: 1;position: relative;background-color: white;}#sk-container-id-6 div.sk-parallel-item:first-child::after {align-self: flex-end;width: 50%;}#sk-container-id-6 div.sk-parallel-item:last-child::after {align-self: flex-start;width: 50%;}#sk-container-id-6 div.sk-parallel-item:only-child::after {width: 0;}#sk-container-id-6 div.sk-dashed-wrapped {border: 1px dashed gray;margin: 0 0.4em 0.5em 0.4em;box-sizing: border-box;padding-bottom: 0.4em;background-color: white;}#sk-container-id-6 div.sk-label label {font-family: monospace;font-weight: bold;display: inline-block;line-height: 1.2em;}#sk-container-id-6 div.sk-label-container {text-align: center;}#sk-container-id-6 div.sk-container {/* jupyter's `normalize.less` sets `[hidden] { display: none; }` but bootstrap.min.css set `[hidden] { display: none !important; }` so we also need the `!important` here to be able to override the default hidden behavior on the sphinx rendered scikit-learn.org. See: https://github.com/scikit-learn/scikit-learn/issues/21755 */display: inline-block !important;position: relative;}#sk-container-id-6 div.sk-text-repr-fallback {display: none;}</style><div id=\"sk-container-id-6\" class=\"sk-top-container\"><div class=\"sk-text-repr-fallback\"><pre>LinearRegression()</pre><b>In a Jupyter environment, please rerun this cell to show the HTML representation or trust the notebook. <br />On GitHub, the HTML representation is unable to render, please try loading this page with nbviewer.org.</b></div><div class=\"sk-container\" hidden><div class=\"sk-item\"><div class=\"sk-estimator sk-toggleable\"><input class=\"sk-toggleable__control sk-hidden--visually\" id=\"sk-estimator-id-6\" type=\"checkbox\" checked><label for=\"sk-estimator-id-6\" class=\"sk-toggleable__label sk-toggleable__label-arrow\">LinearRegression</label><div class=\"sk-toggleable__content\"><pre>LinearRegression()</pre></div></div></div></div></div>"
            ]
          },
          "metadata": {},
          "execution_count": 41
        }
      ]
    },
    {
      "cell_type": "code",
      "source": [
        "# Verificamos los coeficientes obtenidos para el modelo ajustado\n",
        "\n",
        "model.__dict__"
      ],
      "metadata": {
        "colab": {
          "base_uri": "https://localhost:8080/"
        },
        "id": "mGrCst0Iyfal",
        "outputId": "fc69bf25-ecef-4a8e-c71a-61686ff91698"
      },
      "execution_count": null,
      "outputs": [
        {
          "output_type": "execute_result",
          "data": {
            "text/plain": [
              "{'fit_intercept': True,\n",
              " 'copy_X': True,\n",
              " 'n_jobs': None,\n",
              " 'positive': False,\n",
              " 'feature_names_in_': array(['pagos_realizados'], dtype=object),\n",
              " 'n_features_in_': 1,\n",
              " 'coef_': array([-9.77390446]),\n",
              " 'rank_': 1,\n",
              " 'singular_': array([346.02372751]),\n",
              " 'intercept_': 4654.769951322011}"
            ]
          },
          "metadata": {},
          "execution_count": 42
        }
      ]
    },
    {
      "cell_type": "markdown",
      "source": [
        "Modelo Matemático (Precio vs  Pagos Realizados): y = -1.18284228x1 + 4346.9537302228055"
      ],
      "metadata": {
        "id": "RgmDYhBgym3U"
      }
    },
    {
      "cell_type": "code",
      "source": [
        "# Corroboramos cual es el coeficiente de Determinación de nuestro modelo\n",
        "\n",
        "coef_Deter = model.score(X = Var_Indep, y = Var_Dep)\n",
        "coef_Deter"
      ],
      "metadata": {
        "colab": {
          "base_uri": "https://localhost:8080/"
        },
        "id": "TdSZgj0ZytMU",
        "outputId": "a0bf2a80-d0bf-42a5-ecf4-e1009b401fb6"
      },
      "execution_count": null,
      "outputs": [
        {
          "output_type": "execute_result",
          "data": {
            "text/plain": [
              "0.01061615712873698"
            ]
          },
          "metadata": {},
          "execution_count": 43
        }
      ]
    },
    {
      "cell_type": "code",
      "source": [
        "# Corroboramos cual es el coeficiente de Correlación de nuestro modelo\n",
        "coef_Correl = np.sqrt(coef_Deter)\n",
        "coef_Correl"
      ],
      "metadata": {
        "colab": {
          "base_uri": "https://localhost:8080/"
        },
        "id": "xv4MSGYGywmU",
        "outputId": "7fd28ef6-e0a8-41b1-c3d3-2ef2abbae123"
      },
      "execution_count": null,
      "outputs": [
        {
          "output_type": "execute_result",
          "data": {
            "text/plain": [
              "0.10303473748565083"
            ]
          },
          "metadata": {},
          "execution_count": 44
        }
      ]
    }
  ]
}